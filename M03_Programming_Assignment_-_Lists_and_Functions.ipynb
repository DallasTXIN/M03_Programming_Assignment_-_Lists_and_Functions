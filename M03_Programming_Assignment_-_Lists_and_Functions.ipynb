{
 "cells": [
  {
   "cell_type": "code",
   "execution_count": null,
   "id": "914297bc",
   "metadata": {},
   "outputs": [],
   "source": [
    "#Dallas Lawson\n",
    "#M03 Programming Assignment - Lists and Functions\n",
    "\n",
    "#7.4\n",
    "things = [\"mozzarella\", \"cinderella\", \"salmonella\"]\n",
    "\n",
    "#7.5\n",
    "things[1] = things[1].capitalize()\n",
    "\n",
    "#7.6\n",
    "things[0] = things[0].upper()\n",
    "\n",
    "#7.7\n",
    "things.remove(\"salmonella\")\n",
    "\n",
    "#9.1\n",
    "def good():\n",
    "    return [\"Harry\", \"Ron\", \"Hermoine\"]\n",
    "\n",
    "#9.2\n",
    "def get_odds():\n",
    "    for number in range(1, 10, 2):\n",
    "        yield number\n",
    "\n",
    "count = 1\n",
    "for number in get_odds():\n",
    "    if count == 3:\n",
    "        print(\"The third number is: \", number)\n",
    "    count += 1"
   ]
  }
 ],
 "metadata": {
  "kernelspec": {
   "display_name": "Python 3 (ipykernel)",
   "language": "python",
   "name": "python3"
  },
  "language_info": {
   "codemirror_mode": {
    "name": "ipython",
    "version": 3
   },
   "file_extension": ".py",
   "mimetype": "text/x-python",
   "name": "python",
   "nbconvert_exporter": "python",
   "pygments_lexer": "ipython3",
   "version": "3.9.13"
  }
 },
 "nbformat": 4,
 "nbformat_minor": 5
}
